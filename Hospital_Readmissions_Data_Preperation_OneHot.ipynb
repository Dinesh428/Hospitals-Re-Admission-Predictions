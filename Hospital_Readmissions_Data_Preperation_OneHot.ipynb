{
 "cells": [
  {
   "cell_type": "markdown",
   "metadata": {},
   "source": [
    "<h1>Hospital Readmissions Data Preperation</h1>"
   ]
  },
  {
   "cell_type": "code",
   "execution_count": 1,
   "metadata": {},
   "outputs": [],
   "source": [
    "#Importing Required Libraries\n",
    "import pandas as pd\n",
    "import numpy as np\n",
    "import matplotlib.pyplot as plt\n",
    "import seaborn as sns\n",
    "import scipy\n",
    "import pickle\n",
    "from sklearn.model_selection import train_test_split\n",
    "from sklearn.feature_extraction.text import CountVectorizer"
   ]
  },
  {
   "cell_type": "code",
   "execution_count": 2,
   "metadata": {},
   "outputs": [],
   "source": [
    "#Importing pickle file which is processed and analysed in Hospital_Readmissions Analysis Notebook.\n",
    "f_bow=open('data','rb')\n",
    "data=pickle.load(f_bow)\n",
    "f_bow.close()"
   ]
  },
  {
   "cell_type": "code",
   "execution_count": 3,
   "metadata": {},
   "outputs": [],
   "source": [
    "#Removing data points which is having greater than 30 days readmissions.\n",
    "data=data[data['readmitted']!='>30']\n",
    "data['readmitted']=data['readmitted'].str.replace('<30','Admitted')"
   ]
  },
  {
   "cell_type": "code",
   "execution_count": 4,
   "metadata": {},
   "outputs": [
    {
     "data": {
      "text/plain": [
       "NO          54864\n",
       "Admitted    11357\n",
       "Name: readmitted, dtype: int64"
      ]
     },
     "execution_count": 4,
     "metadata": {},
     "output_type": "execute_result"
    }
   ],
   "source": [
    "#Checking of value counts for class labels\n",
    "data['readmitted'].value_counts()"
   ]
  },
  {
   "cell_type": "markdown",
   "metadata": {},
   "source": [
    "Replacing missing values with UNKNOWN_RACE for RACE feature"
   ]
  },
  {
   "cell_type": "code",
   "execution_count": 5,
   "metadata": {},
   "outputs": [],
   "source": [
    "data['race']=data['race'].str.replace('?','UNKNOWN_RACE')"
   ]
  },
  {
   "cell_type": "markdown",
   "metadata": {},
   "source": [
    "Removing values which are having 'Unknown/Invalid' in Gender Feature"
   ]
  },
  {
   "cell_type": "code",
   "execution_count": 6,
   "metadata": {},
   "outputs": [],
   "source": [
    "data=data[data['gender']!='Unknown/Invalid']"
   ]
  },
  {
   "cell_type": "markdown",
   "metadata": {},
   "source": [
    "Replacing binned values of AGE feature with numerical values"
   ]
  },
  {
   "cell_type": "code",
   "execution_count": 7,
   "metadata": {},
   "outputs": [],
   "source": [
    "data['age']=data['age'].str.replace('\\[0-10\\)','0')\n",
    "data['age']=data['age'].str.replace('\\[10-20\\)','1')\n",
    "data['age']=data['age'].str.replace('\\[20-30\\)','2')\n",
    "data['age']=data['age'].str.replace('\\[30-40\\)','3')\n",
    "data['age']=data['age'].str.replace('\\[40-50\\)','4')\n",
    "data['age']=data['age'].str.replace('\\[50-60\\)','5')\n",
    "data['age']=data['age'].str.replace('\\[60-70\\)','6')\n",
    "data['age']=data['age'].str.replace('\\[70-80\\)','7')\n",
    "data['age']=data['age'].str.replace('\\[80-90\\)','8')\n",
    "data['age']=data['age'].str.replace('\\[90-100\\)','9')"
   ]
  },
  {
   "cell_type": "markdown",
   "metadata": {},
   "source": [
    "Removing Weight Feature, as there is 96% of values are missing."
   ]
  },
  {
   "cell_type": "code",
   "execution_count": 8,
   "metadata": {},
   "outputs": [
    {
     "data": {
      "text/html": [
       "<div>\n",
       "<style scoped>\n",
       "    .dataframe tbody tr th:only-of-type {\n",
       "        vertical-align: middle;\n",
       "    }\n",
       "\n",
       "    .dataframe tbody tr th {\n",
       "        vertical-align: top;\n",
       "    }\n",
       "\n",
       "    .dataframe thead th {\n",
       "        text-align: right;\n",
       "    }\n",
       "</style>\n",
       "<table border=\"1\" class=\"dataframe\">\n",
       "  <thead>\n",
       "    <tr style=\"text-align: right;\">\n",
       "      <th></th>\n",
       "      <th>encounter_id</th>\n",
       "      <th>patient_nbr</th>\n",
       "      <th>race</th>\n",
       "      <th>gender</th>\n",
       "      <th>age</th>\n",
       "      <th>admission_type_id</th>\n",
       "      <th>discharge_disposition_id</th>\n",
       "      <th>admission_source_id</th>\n",
       "      <th>time_in_hospital</th>\n",
       "      <th>payer_code</th>\n",
       "      <th>...</th>\n",
       "      <th>glyburide-metformin</th>\n",
       "      <th>glipizide-metformin</th>\n",
       "      <th>glimepiride-pioglitazone</th>\n",
       "      <th>metformin-rosiglitazone</th>\n",
       "      <th>metformin-pioglitazone</th>\n",
       "      <th>change</th>\n",
       "      <th>diabetesMed</th>\n",
       "      <th>readmitted</th>\n",
       "      <th>admission_source_category</th>\n",
       "      <th>discharge_disposition_category</th>\n",
       "    </tr>\n",
       "  </thead>\n",
       "  <tbody>\n",
       "    <tr>\n",
       "      <th>0</th>\n",
       "      <td>2278392</td>\n",
       "      <td>8222157</td>\n",
       "      <td>Caucasian</td>\n",
       "      <td>Female</td>\n",
       "      <td>0</td>\n",
       "      <td>NaN</td>\n",
       "      <td>25</td>\n",
       "      <td>1</td>\n",
       "      <td>1</td>\n",
       "      <td>?</td>\n",
       "      <td>...</td>\n",
       "      <td>No</td>\n",
       "      <td>No</td>\n",
       "      <td>No</td>\n",
       "      <td>No</td>\n",
       "      <td>No</td>\n",
       "      <td>No</td>\n",
       "      <td>No</td>\n",
       "      <td>NO</td>\n",
       "      <td>Physician Referral</td>\n",
       "      <td>Not Mapped</td>\n",
       "    </tr>\n",
       "    <tr>\n",
       "      <th>2</th>\n",
       "      <td>64410</td>\n",
       "      <td>86047875</td>\n",
       "      <td>AfricanAmerican</td>\n",
       "      <td>Female</td>\n",
       "      <td>2</td>\n",
       "      <td>Emergency</td>\n",
       "      <td>1</td>\n",
       "      <td>7</td>\n",
       "      <td>2</td>\n",
       "      <td>?</td>\n",
       "      <td>...</td>\n",
       "      <td>No</td>\n",
       "      <td>No</td>\n",
       "      <td>No</td>\n",
       "      <td>No</td>\n",
       "      <td>No</td>\n",
       "      <td>No</td>\n",
       "      <td>Yes</td>\n",
       "      <td>NO</td>\n",
       "      <td>Emergency Room</td>\n",
       "      <td>Discharged to home</td>\n",
       "    </tr>\n",
       "    <tr>\n",
       "      <th>3</th>\n",
       "      <td>500364</td>\n",
       "      <td>82442376</td>\n",
       "      <td>Caucasian</td>\n",
       "      <td>Male</td>\n",
       "      <td>3</td>\n",
       "      <td>Emergency</td>\n",
       "      <td>1</td>\n",
       "      <td>7</td>\n",
       "      <td>2</td>\n",
       "      <td>?</td>\n",
       "      <td>...</td>\n",
       "      <td>No</td>\n",
       "      <td>No</td>\n",
       "      <td>No</td>\n",
       "      <td>No</td>\n",
       "      <td>No</td>\n",
       "      <td>Ch</td>\n",
       "      <td>Yes</td>\n",
       "      <td>NO</td>\n",
       "      <td>Emergency Room</td>\n",
       "      <td>Discharged to home</td>\n",
       "    </tr>\n",
       "    <tr>\n",
       "      <th>4</th>\n",
       "      <td>16680</td>\n",
       "      <td>42519267</td>\n",
       "      <td>Caucasian</td>\n",
       "      <td>Male</td>\n",
       "      <td>4</td>\n",
       "      <td>Emergency</td>\n",
       "      <td>1</td>\n",
       "      <td>7</td>\n",
       "      <td>1</td>\n",
       "      <td>?</td>\n",
       "      <td>...</td>\n",
       "      <td>No</td>\n",
       "      <td>No</td>\n",
       "      <td>No</td>\n",
       "      <td>No</td>\n",
       "      <td>No</td>\n",
       "      <td>Ch</td>\n",
       "      <td>Yes</td>\n",
       "      <td>NO</td>\n",
       "      <td>Emergency Room</td>\n",
       "      <td>Discharged to home</td>\n",
       "    </tr>\n",
       "    <tr>\n",
       "      <th>6</th>\n",
       "      <td>55842</td>\n",
       "      <td>84259809</td>\n",
       "      <td>Caucasian</td>\n",
       "      <td>Male</td>\n",
       "      <td>6</td>\n",
       "      <td>Elective</td>\n",
       "      <td>1</td>\n",
       "      <td>2</td>\n",
       "      <td>4</td>\n",
       "      <td>?</td>\n",
       "      <td>...</td>\n",
       "      <td>No</td>\n",
       "      <td>No</td>\n",
       "      <td>No</td>\n",
       "      <td>No</td>\n",
       "      <td>No</td>\n",
       "      <td>Ch</td>\n",
       "      <td>Yes</td>\n",
       "      <td>NO</td>\n",
       "      <td>Clinic Referral</td>\n",
       "      <td>Discharged to home</td>\n",
       "    </tr>\n",
       "  </tbody>\n",
       "</table>\n",
       "<p>5 rows × 51 columns</p>\n",
       "</div>"
      ],
      "text/plain": [
       "   encounter_id  patient_nbr             race  gender age admission_type_id  \\\n",
       "0       2278392      8222157        Caucasian  Female   0               NaN   \n",
       "2         64410     86047875  AfricanAmerican  Female   2         Emergency   \n",
       "3        500364     82442376        Caucasian    Male   3         Emergency   \n",
       "4         16680     42519267        Caucasian    Male   4         Emergency   \n",
       "6         55842     84259809        Caucasian    Male   6          Elective   \n",
       "\n",
       "   discharge_disposition_id  admission_source_id  time_in_hospital payer_code  \\\n",
       "0                        25                    1                 1          ?   \n",
       "2                         1                    7                 2          ?   \n",
       "3                         1                    7                 2          ?   \n",
       "4                         1                    7                 1          ?   \n",
       "6                         1                    2                 4          ?   \n",
       "\n",
       "               ...               glyburide-metformin  glipizide-metformin  \\\n",
       "0              ...                                No                   No   \n",
       "2              ...                                No                   No   \n",
       "3              ...                                No                   No   \n",
       "4              ...                                No                   No   \n",
       "6              ...                                No                   No   \n",
       "\n",
       "   glimepiride-pioglitazone  metformin-rosiglitazone  metformin-pioglitazone  \\\n",
       "0                        No                       No                      No   \n",
       "2                        No                       No                      No   \n",
       "3                        No                       No                      No   \n",
       "4                        No                       No                      No   \n",
       "6                        No                       No                      No   \n",
       "\n",
       "   change  diabetesMed readmitted admission_source_category  \\\n",
       "0      No           No         NO        Physician Referral   \n",
       "2      No          Yes         NO            Emergency Room   \n",
       "3      Ch          Yes         NO            Emergency Room   \n",
       "4      Ch          Yes         NO            Emergency Room   \n",
       "6      Ch          Yes         NO           Clinic Referral   \n",
       "\n",
       "  discharge_disposition_category  \n",
       "0                     Not Mapped  \n",
       "2             Discharged to home  \n",
       "3             Discharged to home  \n",
       "4             Discharged to home  \n",
       "6             Discharged to home  \n",
       "\n",
       "[5 rows x 51 columns]"
      ]
     },
     "execution_count": 8,
     "metadata": {},
     "output_type": "execute_result"
    }
   ],
   "source": [
    "data=data.drop(['weight'], axis=1)\n",
    "data.head()"
   ]
  },
  {
   "cell_type": "markdown",
   "metadata": {},
   "source": [
    "Replacing category names of medical tests with caegory names followed by feature names."
   ]
  },
  {
   "cell_type": "code",
   "execution_count": 9,
   "metadata": {},
   "outputs": [],
   "source": [
    "data['max_glu_serum']=data['max_glu_serum'].str.replace('None','UNKOWN_max_glu_serum')\n",
    "data['max_glu_serum']=data['max_glu_serum'].str.replace('Norm','Norm_max_glu_serum')\n",
    "data['max_glu_serum']=data['max_glu_serum'].str.replace('>200','>200_max_glu_serum')\n",
    "data['max_glu_serum']=data['max_glu_serum'].str.replace('>300','>300_max_glu_serum')"
   ]
  },
  {
   "cell_type": "code",
   "execution_count": 10,
   "metadata": {},
   "outputs": [],
   "source": [
    "data['A1Cresult']=data['A1Cresult'].str.replace('None','UNKOWN_A1Cresult')\n",
    "data['A1Cresult']=data['A1Cresult'].str.replace('Norm','Norm_A1Cresult')\n",
    "data['A1Cresult']=data['A1Cresult'].str.replace('>8','>8_A1Cresult')\n",
    "data['A1Cresult']=data['A1Cresult'].str.replace('>7','>7_A1Cresult')"
   ]
  },
  {
   "cell_type": "code",
   "execution_count": 11,
   "metadata": {},
   "outputs": [],
   "source": [
    "data['metformin']=data['metformin'].str.replace('No','No_metformin')\n",
    "data['metformin']=data['metformin'].str.replace('Steady','Steady_metformin')\n",
    "data['metformin']=data['metformin'].str.replace('Up','Up_metformin')\n",
    "data['metformin']=data['metformin'].str.replace('Down','Down_metformin')"
   ]
  },
  {
   "cell_type": "code",
   "execution_count": 12,
   "metadata": {},
   "outputs": [],
   "source": [
    "data['repaglinide']=data['repaglinide'].str.replace('No','No_repaglinide')\n",
    "data['repaglinide']=data['repaglinide'].str.replace('Steady','Steady_repaglinide')\n",
    "data['repaglinide']=data['repaglinide'].str.replace('Up','Up_repaglinide')\n",
    "data['repaglinide']=data['repaglinide'].str.replace('Down','Down_repaglinide')"
   ]
  },
  {
   "cell_type": "code",
   "execution_count": 13,
   "metadata": {},
   "outputs": [],
   "source": [
    "data['nateglinide']=data['nateglinide'].str.replace('No','No_nateglinide')\n",
    "data['nateglinide']=data['nateglinide'].str.replace('Steady','Steady_nateglinide')\n",
    "data['nateglinide']=data['nateglinide'].str.replace('Up','Up_nateglinide')\n",
    "data['nateglinide']=data['nateglinide'].str.replace('Down','Down_nateglinide')"
   ]
  },
  {
   "cell_type": "code",
   "execution_count": 14,
   "metadata": {},
   "outputs": [],
   "source": [
    "data['chlorpropamide']=data['chlorpropamide'].str.replace('No','No_chlorpropamide')\n",
    "data['chlorpropamide']=data['chlorpropamide'].str.replace('Steady','Steady_chlorpropamide')\n",
    "data['chlorpropamide']=data['chlorpropamide'].str.replace('Up','Up_chlorpropamide')\n",
    "data['chlorpropamide']=data['chlorpropamide'].str.replace('Down','Down_chlorpropamide')"
   ]
  },
  {
   "cell_type": "code",
   "execution_count": 15,
   "metadata": {},
   "outputs": [],
   "source": [
    "data['glimepiride']=data['glimepiride'].str.replace('No','No_glimepiride')\n",
    "data['glimepiride']=data['glimepiride'].str.replace('Steady','Steady_glimepiride')\n",
    "data['glimepiride']=data['glimepiride'].str.replace('Up','Up_glimepiride')\n",
    "data['glimepiride']=data['glimepiride'].str.replace('Down','Down_glimepiride')"
   ]
  },
  {
   "cell_type": "code",
   "execution_count": 16,
   "metadata": {},
   "outputs": [],
   "source": [
    "data['glipizide']=data['glipizide'].str.replace('No','No_glipizide')\n",
    "data['glipizide']=data['glipizide'].str.replace('Steady','Steady_glipizide')\n",
    "data['glipizide']=data['glipizide'].str.replace('Up','Up_glipizide')\n",
    "data['glipizide']=data['glipizide'].str.replace('Down','Down_glipizide')"
   ]
  },
  {
   "cell_type": "code",
   "execution_count": 17,
   "metadata": {},
   "outputs": [],
   "source": [
    "#Dropping acetohexamide feature, as there is no proper information\n",
    "data=data.drop(['acetohexamide'], axis=1)"
   ]
  },
  {
   "cell_type": "code",
   "execution_count": 18,
   "metadata": {},
   "outputs": [],
   "source": [
    "data['glyburide']=data['glyburide'].str.replace('No','No_glyburide')\n",
    "data['glyburide']=data['glyburide'].str.replace('Steady','Steady_glyburide')\n",
    "data['glyburide']=data['glyburide'].str.replace('Up','Up_glyburide')\n",
    "data['glyburide']=data['glyburide'].str.replace('Down','Down_glyburide')"
   ]
  },
  {
   "cell_type": "code",
   "execution_count": 19,
   "metadata": {},
   "outputs": [],
   "source": [
    "data['tolbutamide']=data['tolbutamide'].str.replace('No','No_tolbutamide')\n",
    "data['tolbutamide']=data['tolbutamide'].str.replace('Steady','Steady_tolbutamide')\n",
    "data['tolbutamide']=data['tolbutamide'].str.replace('Up','Up_tolbutamide')\n",
    "data['tolbutamide']=data['tolbutamide'].str.replace('Down','Down_tolbutamide')"
   ]
  },
  {
   "cell_type": "code",
   "execution_count": 20,
   "metadata": {},
   "outputs": [],
   "source": [
    "data['pioglitazone']=data['pioglitazone'].str.replace('No','No_pioglitazone')\n",
    "data['pioglitazone']=data['pioglitazone'].str.replace('Steady','Steady_pioglitazone')\n",
    "data['pioglitazone']=data['pioglitazone'].str.replace('Up','Up_pioglitazone')\n",
    "data['pioglitazone']=data['pioglitazone'].str.replace('Down','Down_pioglitazone')"
   ]
  },
  {
   "cell_type": "code",
   "execution_count": 21,
   "metadata": {},
   "outputs": [],
   "source": [
    "data['rosiglitazone']=data['rosiglitazone'].str.replace('No','No_rosiglitazone')\n",
    "data['rosiglitazone']=data['rosiglitazone'].str.replace('Steady','Steady_rosiglitazone')\n",
    "data['rosiglitazone']=data['rosiglitazone'].str.replace('Up','Up_rosiglitazone')\n",
    "data['rosiglitazone']=data['rosiglitazone'].str.replace('Down','Down_rosiglitazone')"
   ]
  },
  {
   "cell_type": "code",
   "execution_count": 22,
   "metadata": {},
   "outputs": [],
   "source": [
    "data['acarbose']=data['acarbose'].str.replace('No','No_acarbose')\n",
    "data['acarbose']=data['acarbose'].str.replace('Steady','Steady_acarbose')\n",
    "data['acarbose']=data['acarbose'].str.replace('Up','Up_acarbose')\n",
    "data['acarbose']=data['acarbose'].str.replace('Down','Down_acarbose')"
   ]
  },
  {
   "cell_type": "code",
   "execution_count": 23,
   "metadata": {},
   "outputs": [],
   "source": [
    "data['miglitol']=data['miglitol'].str.replace('No','No_miglitol')\n",
    "data['miglitol']=data['miglitol'].str.replace('Steady','Steady_miglitol')\n",
    "data['miglitol']=data['miglitol'].str.replace('Up','Up_miglitol')\n",
    "data['miglitol']=data['miglitol'].str.replace('Down','Down_miglitol')"
   ]
  },
  {
   "cell_type": "code",
   "execution_count": 24,
   "metadata": {},
   "outputs": [],
   "source": [
    "data['insulin']=data['insulin'].str.replace('No','No_insulin')\n",
    "data['insulin']=data['insulin'].str.replace('Steady','Steady_insulin')\n",
    "data['insulin']=data['insulin'].str.replace('Up','Up_insulin')\n",
    "data['insulin']=data['insulin'].str.replace('Down','Down_insulin')"
   ]
  },
  {
   "cell_type": "code",
   "execution_count": 25,
   "metadata": {},
   "outputs": [],
   "source": [
    "data['glyburide-metformin']=data['glyburide-metformin'].str.replace('No','No_glyburide-metformin')\n",
    "data['glyburide-metformin']=data['glyburide-metformin'].str.replace('Steady','Steady_glyburide-metformin')\n",
    "data['glyburide-metformin']=data['glyburide-metformin'].str.replace('Up','Up_glyburide-metformin')\n",
    "data['glyburide-metformin']=data['glyburide-metformin'].str.replace('Down','Down_glyburide-metformin')"
   ]
  },
  {
   "cell_type": "code",
   "execution_count": 26,
   "metadata": {},
   "outputs": [],
   "source": [
    "data['glipizide-metformin']=data['glipizide-metformin'].str.replace('No','No_glipizide-metformin')\n",
    "data['glipizide-metformin']=data['glipizide-metformin'].str.replace('Steady','Steady_glipizide-metformin')\n",
    "data['glipizide-metformin']=data['glipizide-metformin'].str.replace('Up','Up_glipizide-metformin')\n",
    "data['glipizide-metformin']=data['glipizide-metformin'].str.replace('Down','Down_glipizide-metformin')"
   ]
  },
  {
   "cell_type": "code",
   "execution_count": 27,
   "metadata": {},
   "outputs": [],
   "source": [
    "data['glimepiride-pioglitazone']=data['glimepiride-pioglitazone'].str.replace('No','No_glimepiride-pioglitazone')\n",
    "data['glimepiride-pioglitazone']=data['glimepiride-pioglitazone'].str.replace('Steady','Steady_glimepiride-pioglitazone')\n",
    "data['glimepiride-pioglitazone']=data['glimepiride-pioglitazone'].str.replace('Up','Up_glimepiride-pioglitazone')\n",
    "data['glimepiride-pioglitazone']=data['glimepiride-pioglitazone'].str.replace('Down','Down_glimepiride-pioglitazone')"
   ]
  },
  {
   "cell_type": "code",
   "execution_count": 28,
   "metadata": {},
   "outputs": [],
   "source": [
    "data['metformin-rosiglitazone']=data['metformin-rosiglitazone'].str.replace('No','No_metformin-rosiglitazone')\n",
    "data['metformin-rosiglitazone']=data['metformin-rosiglitazone'].str.replace('Steady','Steady_metformin-rosiglitazone')\n",
    "data['metformin-rosiglitazone']=data['metformin-rosiglitazone'].str.replace('Up','Up_metformin-rosiglitazone')\n",
    "data['metformin-rosiglitazone']=data['metformin-rosiglitazone'].str.replace('Down','Down_metformin-rosiglitazone')"
   ]
  },
  {
   "cell_type": "code",
   "execution_count": 29,
   "metadata": {},
   "outputs": [],
   "source": [
    "data['change']=data['change'].str.replace('No','No_change')\n",
    "data['change']=data['change'].str.replace('Ch','Yes_change')"
   ]
  },
  {
   "cell_type": "code",
   "execution_count": 30,
   "metadata": {},
   "outputs": [],
   "source": [
    "data['diabetesMed']=data['diabetesMed'].str.replace('No','No_diabetesMed')\n",
    "data['diabetesMed']=data['diabetesMed'].str.replace('Yes','Yes_diabetesMed')"
   ]
  },
  {
   "cell_type": "code",
   "execution_count": 31,
   "metadata": {},
   "outputs": [],
   "source": [
    "#Dropping Features which are not useful.\n",
    "data=data.drop(['metformin-pioglitazone'], axis=1)\n",
    "data=data.drop(['metformin-rosiglitazone'], axis=1)\n",
    "data=data.drop(['glimepiride-pioglitazone'], axis=1)\n",
    "data=data.drop(['glipizide-metformin'], axis=1)\n",
    "data=data.drop(['citoglipton'], axis=1)\n",
    "data=data.drop(['examide'], axis=1)\n",
    "data=data.drop(['encounter_id'], axis=1)\n",
    "data=data.drop(['patient_nbr'], axis=1)\n",
    "data=data.drop(['payer_code'], axis=1)"
   ]
  },
  {
   "cell_type": "code",
   "execution_count": null,
   "metadata": {},
   "outputs": [],
   "source": []
  },
  {
   "cell_type": "code",
   "execution_count": 32,
   "metadata": {},
   "outputs": [],
   "source": [
    "#After observing Mappings file for dischare disposition id some of mapped categories are not valid for our problem.\n",
    "data=data.loc[~data.discharge_disposition_id.isin([11,13,14,19,18,20,21])]"
   ]
  },
  {
   "cell_type": "code",
   "execution_count": 33,
   "metadata": {
    "scrolled": false
   },
   "outputs": [],
   "source": [
    "#Replacing missing value with UNKNOWN_Medical_Speciality in Medical speciality feature \n",
    "data['medical_specialty']=data['medical_specialty'].str.replace('?','UNKNOWN_Medical_Speciality')"
   ]
  },
  {
   "cell_type": "code",
   "execution_count": 34,
   "metadata": {},
   "outputs": [
    {
     "data": {
      "text/plain": [
       "Emergency                        31625\n",
       "Elective                         12136\n",
       "Urgent                           11285\n",
       "Not_Mapped_Addmiision_Type_ID     6102\n",
       "Trauma Center                       18\n",
       "Newborn                              8\n",
       "Name: admission_type_id, dtype: int64"
      ]
     },
     "execution_count": 34,
     "metadata": {},
     "output_type": "execute_result"
    }
   ],
   "source": [
    "data['admission_type_id']=data['admission_type_id'].str.replace('NaN','Not_Mapped_Addmiision_Type_ID')\n",
    "data['admission_type_id']=data['admission_type_id'].str.replace('Not Available','Not_Mapped_Addmiision_Type_ID')\n",
    "data['admission_type_id']=data['admission_type_id'].str.replace('Not Mapped','Not_Mapped_Addmiision_Type_ID')\n",
    "data['admission_type_id'].value_counts()"
   ]
  },
  {
   "cell_type": "code",
   "execution_count": 35,
   "metadata": {},
   "outputs": [
    {
     "data": {
      "text/plain": [
       " Emergency Room                                               32881\n",
       " Physician Referral                                           18830\n",
       "Transfer from a hospital                                       2053\n",
       " Transfer from another health care facility                    1817\n",
       "Clinic Referral                                                 701\n",
       " Transfer from a Skilled Nursing Facility (SNF)                 489\n",
       " Not_Mapped_Admission_Source_Category                           187\n",
       "HMO Referral                                                     76\n",
       " Court/Law Enforcement                                           11\n",
       " Transfer from hospital inpt/same fac reslt in a sep claim        9\n",
       " Transfer from critial access hospital                            6\n",
       " Extramural Birth                                                 2\n",
       "Normal Delivery                                                   2\n",
       " Transfer from Ambulatory Surgery Center                          2\n",
       " Sick Baby                                                        1\n",
       "Name: admission_source_category, dtype: int64"
      ]
     },
     "execution_count": 35,
     "metadata": {},
     "output_type": "execute_result"
    }
   ],
   "source": [
    "data['admission_source_category']=data['admission_source_category'].str.replace('Not Available','Not_Mapped_Admission_Source_Category')\n",
    "data['admission_source_category']=data['admission_source_category'].str.replace('Not Mapped','Not_Mapped_Admission_Source_Category')\n",
    "data['admission_source_category'].value_counts()"
   ]
  },
  {
   "cell_type": "code",
   "execution_count": 36,
   "metadata": {},
   "outputs": [],
   "source": [
    "#Replacing issing diagnosis codes with UNKOWN_DIAG\n",
    "data['diag_1']=data['diag_1'].str.replace('?','UNKOWN_DIAG')\n",
    "data['diag_2']=data['diag_2'].str.replace('?','UNKOWN_DIAG')\n",
    "data['diag_3']=data['diag_3'].str.replace('?','UNKOWN_DIAG')"
   ]
  },
  {
   "cell_type": "code",
   "execution_count": 37,
   "metadata": {},
   "outputs": [
    {
     "data": {
      "text/plain": [
       "race                              False\n",
       "gender                            False\n",
       "age                               False\n",
       "admission_type_id                 False\n",
       "discharge_disposition_id          False\n",
       "admission_source_id               False\n",
       "time_in_hospital                  False\n",
       "medical_specialty                 False\n",
       "num_lab_procedures                False\n",
       "num_procedures                    False\n",
       "num_medications                   False\n",
       "number_outpatient                 False\n",
       "number_emergency                  False\n",
       "number_inpatient                  False\n",
       "diag_1                            False\n",
       "diag_2                            False\n",
       "diag_3                            False\n",
       "number_diagnoses                  False\n",
       "max_glu_serum                     False\n",
       "A1Cresult                         False\n",
       "metformin                         False\n",
       "repaglinide                       False\n",
       "nateglinide                       False\n",
       "chlorpropamide                    False\n",
       "glimepiride                       False\n",
       "glipizide                         False\n",
       "glyburide                         False\n",
       "tolbutamide                       False\n",
       "pioglitazone                      False\n",
       "rosiglitazone                     False\n",
       "acarbose                          False\n",
       "miglitol                          False\n",
       "troglitazone                      False\n",
       "tolazamide                        False\n",
       "insulin                           False\n",
       "glyburide-metformin               False\n",
       "change                            False\n",
       "diabetesMed                       False\n",
       "readmitted                        False\n",
       "admission_source_category         False\n",
       "discharge_disposition_category    False\n",
       "dtype: bool"
      ]
     },
     "execution_count": 37,
     "metadata": {},
     "output_type": "execute_result"
    }
   ],
   "source": [
    "#checking is there any missing values in data\n",
    "data.isin(['?']).any()"
   ]
  },
  {
   "cell_type": "code",
   "execution_count": 38,
   "metadata": {},
   "outputs": [
    {
     "data": {
      "text/plain": [
       "Index(['race', 'gender', 'age', 'admission_type_id',\n",
       "       'discharge_disposition_id', 'admission_source_id', 'time_in_hospital',\n",
       "       'medical_specialty', 'num_lab_procedures', 'num_procedures',\n",
       "       'num_medications', 'number_outpatient', 'number_emergency',\n",
       "       'number_inpatient', 'diag_1', 'diag_2', 'diag_3', 'number_diagnoses',\n",
       "       'max_glu_serum', 'A1Cresult', 'metformin', 'repaglinide', 'nateglinide',\n",
       "       'chlorpropamide', 'glimepiride', 'glipizide', 'glyburide',\n",
       "       'tolbutamide', 'pioglitazone', 'rosiglitazone', 'acarbose', 'miglitol',\n",
       "       'troglitazone', 'tolazamide', 'insulin', 'glyburide-metformin',\n",
       "       'change', 'diabetesMed', 'readmitted', 'admission_source_category',\n",
       "       'discharge_disposition_category'],\n",
       "      dtype='object')"
      ]
     },
     "execution_count": 38,
     "metadata": {},
     "output_type": "execute_result"
    }
   ],
   "source": [
    "data.columns"
   ]
  },
  {
   "cell_type": "code",
   "execution_count": 39,
   "metadata": {},
   "outputs": [],
   "source": [
    "data['discharge_disposition_id']=data['discharge_disposition_category']\n",
    "data['admission_source_id']=data['admission_source_category']"
   ]
  },
  {
   "cell_type": "code",
   "execution_count": 40,
   "metadata": {},
   "outputs": [],
   "source": [
    "data=data.drop(['discharge_disposition_category'], axis=1)\n",
    "data=data.drop(['admission_source_category'], axis=1)"
   ]
  },
  {
   "cell_type": "code",
   "execution_count": 41,
   "metadata": {},
   "outputs": [
    {
     "data": {
      "text/plain": [
       "array(['Not Mapped', 'Discharged to home',\n",
       "       'Discharged/transferred to SNF',\n",
       "       'Discharged/transferred to home with home health service',\n",
       "       'Discharged/transferred to another type of inpatient care institution',\n",
       "       'Discharged/transferred to another short term hospital',\n",
       "       'Discharged/transferred to ICF',\n",
       "       'Neonate discharged to another hospital for neonatal aftercare',\n",
       "       'Left AMA',\n",
       "       'Discharged/transferred to home under care of Home IV provider',\n",
       "       'Still patient or expected to return for outpatient services',\n",
       "       'Discharged/transferred to another rehab fac including rehab units of a hospital .',\n",
       "       'Discharged/transferred/referred to this institution for outpatient services',\n",
       "       'Discharged/transferred to a long term care hospital.',\n",
       "       'Admitted as an inpatient to this hospital',\n",
       "       'Discharged/transferred/referred another institution for outpatient services',\n",
       "       'Discharged/transferred within this institution to Medicare approved swing bed',\n",
       "       'Discharged/transferred to a nursing facility certified under Medicaid but not certified under Medicare.',\n",
       "       'Discharged/transferred/referred to a psychiatric hospital of psychiatric distinct part unit of a hospital',\n",
       "       'Discharged/transferred to a federal health care facility.'],\n",
       "      dtype=object)"
      ]
     },
     "execution_count": 41,
     "metadata": {},
     "output_type": "execute_result"
    }
   ],
   "source": [
    "data['discharge_disposition_id'].unique()"
   ]
  },
  {
   "cell_type": "code",
   "execution_count": 42,
   "metadata": {},
   "outputs": [
    {
     "data": {
      "text/plain": [
       "False"
      ]
     },
     "execution_count": 42,
     "metadata": {},
     "output_type": "execute_result"
    }
   ],
   "source": [
    "'nan' in data.columns"
   ]
  },
  {
   "cell_type": "code",
   "execution_count": 43,
   "metadata": {},
   "outputs": [
    {
     "data": {
      "text/plain": [
       "Index(['race', 'gender', 'age', 'admission_type_id',\n",
       "       'discharge_disposition_id', 'admission_source_id', 'time_in_hospital',\n",
       "       'medical_specialty', 'num_lab_procedures', 'num_procedures',\n",
       "       'num_medications', 'number_outpatient', 'number_emergency',\n",
       "       'number_inpatient', 'diag_1', 'diag_2', 'diag_3', 'number_diagnoses',\n",
       "       'max_glu_serum', 'A1Cresult', 'metformin', 'repaglinide', 'nateglinide',\n",
       "       'chlorpropamide', 'glimepiride', 'glipizide', 'glyburide',\n",
       "       'tolbutamide', 'pioglitazone', 'rosiglitazone', 'acarbose', 'miglitol',\n",
       "       'troglitazone', 'tolazamide', 'insulin', 'glyburide-metformin',\n",
       "       'change', 'diabetesMed', 'readmitted'],\n",
       "      dtype='object')"
      ]
     },
     "execution_count": 43,
     "metadata": {},
     "output_type": "execute_result"
    }
   ],
   "source": [
    "data.columns"
   ]
  },
  {
   "cell_type": "markdown",
   "metadata": {},
   "source": [
    "<h2>Train-Test Split</h2>"
   ]
  },
  {
   "cell_type": "code",
   "execution_count": 44,
   "metadata": {},
   "outputs": [],
   "source": [
    "X=data\n",
    "Y=data.readmitted                        "
   ]
  },
  {
   "cell_type": "code",
   "execution_count": 45,
   "metadata": {},
   "outputs": [],
   "source": [
    "X_train, X_test, y_train, y_test = train_test_split(X, Y, test_size=0.3, random_state=42)"
   ]
  },
  {
   "cell_type": "code",
   "execution_count": 46,
   "metadata": {},
   "outputs": [
    {
     "name": "stdout",
     "output_type": "stream",
     "text": [
      "Training data size is 42821\n",
      "Training data size is 42821\n",
      "Testing data size is 18353\n",
      "Testing data size is 18353\n"
     ]
    }
   ],
   "source": [
    "print('Training data size is',X_train.shape[0])\n",
    "print('Training data size is',y_train.shape[0])\n",
    "print('Testing data size is',X_test.shape[0])\n",
    "print('Testing data size is',y_test.shape[0])"
   ]
  },
  {
   "cell_type": "code",
   "execution_count": 47,
   "metadata": {},
   "outputs": [],
   "source": [
    "import warnings\n",
    "warnings.filterwarnings(\"ignore\")\n",
    "\n",
    "X_train['diag_1']=X_train['diag_1'].replace('.','')\n",
    "X_test['diag_1']=X_test['diag_1'].replace('.','')\n",
    "X_train['diag_2']=X_train['diag_2'].replace('.','')\n",
    "X_test['diag_2']=X_test['diag_2'].replace('.','')\n",
    "X_train['diag_3']=X_train['diag_3'].replace('.','')\n",
    "X_test['diag_3']=X_test['diag_3'].replace('.','')"
   ]
  },
  {
   "cell_type": "code",
   "execution_count": 48,
   "metadata": {},
   "outputs": [],
   "source": [
    "#Storing in pickle files for further use\n",
    "import pickle\n",
    "\n",
    "f_bow=open('X_train','wb')\n",
    "pickle.dump(X_train, f_bow)\n",
    "f_bow.close()\n",
    "f_bow=open('X_train','rb')\n",
    "X_train=pickle.load(f_bow)\n",
    "f_bow.close()\n",
    "\n",
    "\n",
    "f_bow=open('X_test','wb')\n",
    "pickle.dump(X_test, f_bow)\n",
    "f_bow.close()\n",
    "f_bow=open('X_test','rb')\n",
    "X_test=pickle.load(f_bow)\n",
    "f_bow.close()\n"
   ]
  },
  {
   "cell_type": "markdown",
   "metadata": {},
   "source": [
    "<h2>Converting Category features into OneHot Encounding Features</h2>"
   ]
  },
  {
   "cell_type": "code",
   "execution_count": 49,
   "metadata": {},
   "outputs": [],
   "source": [
    "#Creating empty dataframes to store all one hot encoded features\n",
    "train_df=pd.DataFrame()\n",
    "test_df=pd.DataFrame()\n",
    "vectorizer = CountVectorizer(min_df=1,stop_words=None)\n",
    "intermediate_train = vectorizer.fit_transform(list(X_train['race']))\n",
    "intermediate_train = pd.DataFrame(intermediate_train.toarray(), columns=vectorizer.get_feature_names())\n",
    "train_df=pd.concat((train_df,intermediate_train), axis=1)\n",
    "intermediate_test = vectorizer.transform(list(X_test['race']))\n",
    "intermediate_test = pd.DataFrame(intermediate_test.toarray(), columns=vectorizer.get_feature_names())\n",
    "test_df=pd.concat((test_df,intermediate_test), axis=1)"
   ]
  },
  {
   "cell_type": "code",
   "execution_count": 50,
   "metadata": {},
   "outputs": [],
   "source": [
    "vectorizer = CountVectorizer(min_df=1,stop_words=None)\n",
    "intermediate_train = vectorizer.fit_transform(list(X_train['gender']))\n",
    "intermediate_train = pd.DataFrame(intermediate_train.toarray(), columns=vectorizer.get_feature_names())\n",
    "train_df=pd.concat((train_df,intermediate_train), axis=1)\n",
    "intermediate_test = vectorizer.transform(list(X_test['gender']))\n",
    "intermediate_test = pd.DataFrame(intermediate_test.toarray(), columns=vectorizer.get_feature_names())\n",
    "test_df=pd.concat((test_df,intermediate_test), axis=1)"
   ]
  },
  {
   "cell_type": "code",
   "execution_count": 51,
   "metadata": {},
   "outputs": [],
   "source": [
    "vectorizer = CountVectorizer(min_df=1,stop_words=None)\n",
    "intermediate_train = vectorizer.fit_transform(list(X_train['admission_type_id']))\n",
    "intermediate_train = pd.DataFrame(intermediate_train.toarray(), columns=vectorizer.get_feature_names())\n",
    "train_df=pd.concat((train_df,intermediate_train), axis=1)\n",
    "intermediate_test = vectorizer.transform(list(X_test['admission_type_id']))\n",
    "intermediate_test = pd.DataFrame(intermediate_test.toarray(), columns=vectorizer.get_feature_names())\n",
    "test_df=pd.concat((test_df,intermediate_test), axis=1)"
   ]
  },
  {
   "cell_type": "code",
   "execution_count": 52,
   "metadata": {},
   "outputs": [],
   "source": [
    "vectorizer = CountVectorizer()\n",
    "intermediate_train = vectorizer.fit_transform(list(X_train['medical_specialty']))\n",
    "intermediate_train = pd.DataFrame(intermediate_train.toarray(), columns=vectorizer.get_feature_names())\n",
    "train_df=pd.concat((train_df,intermediate_train), axis=1)\n",
    "intermediate_test = vectorizer.transform(list(X_test['medical_specialty']))\n",
    "intermediate_test = pd.DataFrame(intermediate_test.toarray(), columns=vectorizer.get_feature_names())\n",
    "test_df=pd.concat((test_df,intermediate_test), axis=1)"
   ]
  },
  {
   "cell_type": "code",
   "execution_count": 53,
   "metadata": {},
   "outputs": [],
   "source": [
    "vectorizer = CountVectorizer()\n",
    "intermediate_train = vectorizer.fit_transform(list(X_train['max_glu_serum']))\n",
    "intermediate_train = pd.DataFrame(intermediate_train.toarray(), columns=vectorizer.get_feature_names())\n",
    "train_df=pd.concat((train_df,intermediate_train), axis=1)\n",
    "intermediate_test = vectorizer.transform(list(X_test['max_glu_serum']))\n",
    "intermediate_test = pd.DataFrame(intermediate_test.toarray(), columns=vectorizer.get_feature_names())\n",
    "test_df=pd.concat((test_df,intermediate_test), axis=1)"
   ]
  },
  {
   "cell_type": "code",
   "execution_count": 54,
   "metadata": {},
   "outputs": [],
   "source": [
    "vectorizer = CountVectorizer()\n",
    "intermediate_train = vectorizer.fit_transform(list(X_train['A1Cresult']))\n",
    "intermediate_train = pd.DataFrame(intermediate_train.toarray(), columns=vectorizer.get_feature_names())\n",
    "train_df=pd.concat((train_df,intermediate_train), axis=1)\n",
    "intermediate_test = vectorizer.transform(list(X_test['A1Cresult']))\n",
    "intermediate_test = pd.DataFrame(intermediate_test.toarray(), columns=vectorizer.get_feature_names())\n",
    "test_df=pd.concat((test_df,intermediate_test), axis=1)"
   ]
  },
  {
   "cell_type": "code",
   "execution_count": 55,
   "metadata": {},
   "outputs": [],
   "source": [
    "vectorizer = CountVectorizer()\n",
    "intermediate_train = vectorizer.fit_transform(list(X_train['metformin']))\n",
    "intermediate_train = pd.DataFrame(intermediate_train.toarray(), columns=vectorizer.get_feature_names())\n",
    "train_df=pd.concat((train_df,intermediate_train), axis=1)\n",
    "intermediate_test = vectorizer.transform(list(X_test['metformin']))\n",
    "intermediate_test = pd.DataFrame(intermediate_test.toarray(), columns=vectorizer.get_feature_names())\n",
    "test_df=pd.concat((test_df,intermediate_test), axis=1)"
   ]
  },
  {
   "cell_type": "code",
   "execution_count": 56,
   "metadata": {},
   "outputs": [],
   "source": [
    "vectorizer = CountVectorizer()\n",
    "intermediate_train = vectorizer.fit_transform(list(X_train['repaglinide']))\n",
    "intermediate_train = pd.DataFrame(intermediate_train.toarray(), columns=vectorizer.get_feature_names())\n",
    "train_df=pd.concat((train_df,intermediate_train), axis=1)\n",
    "intermediate_test = vectorizer.transform(list(X_test['repaglinide']))\n",
    "intermediate_test = pd.DataFrame(intermediate_test.toarray(), columns=vectorizer.get_feature_names())\n",
    "test_df=pd.concat((test_df,intermediate_test), axis=1)"
   ]
  },
  {
   "cell_type": "code",
   "execution_count": 57,
   "metadata": {},
   "outputs": [],
   "source": [
    "vectorizer = CountVectorizer()\n",
    "intermediate_train = vectorizer.fit_transform(list(X_train['nateglinide']))\n",
    "intermediate_train = pd.DataFrame(intermediate_train.toarray(), columns=vectorizer.get_feature_names())\n",
    "train_df=pd.concat((train_df,intermediate_train), axis=1)\n",
    "intermediate_test = vectorizer.transform(list(X_test['nateglinide']))\n",
    "intermediate_test = pd.DataFrame(intermediate_test.toarray(), columns=vectorizer.get_feature_names())\n",
    "test_df=pd.concat((test_df,intermediate_test), axis=1)"
   ]
  },
  {
   "cell_type": "code",
   "execution_count": 58,
   "metadata": {},
   "outputs": [],
   "source": [
    "vectorizer = CountVectorizer()\n",
    "intermediate_train = vectorizer.fit_transform(list(X_train['chlorpropamide']))\n",
    "intermediate_train = pd.DataFrame(intermediate_train.toarray(), columns=vectorizer.get_feature_names())\n",
    "train_df=pd.concat((train_df,intermediate_train), axis=1)\n",
    "intermediate_test = vectorizer.transform(list(X_test['chlorpropamide']))\n",
    "intermediate_test = pd.DataFrame(intermediate_test.toarray(), columns=vectorizer.get_feature_names())\n",
    "test_df=pd.concat((test_df,intermediate_test), axis=1)"
   ]
  },
  {
   "cell_type": "code",
   "execution_count": 59,
   "metadata": {},
   "outputs": [],
   "source": [
    "vectorizer = CountVectorizer()\n",
    "intermediate_train = vectorizer.fit_transform(list(X_train['glimepiride']))\n",
    "intermediate_train = pd.DataFrame(intermediate_train.toarray(), columns=vectorizer.get_feature_names())\n",
    "train_df=pd.concat((train_df,intermediate_train), axis=1)\n",
    "intermediate_test = vectorizer.transform(list(X_test['glimepiride']))\n",
    "intermediate_test = pd.DataFrame(intermediate_test.toarray(), columns=vectorizer.get_feature_names())\n",
    "test_df=pd.concat((test_df,intermediate_test), axis=1)"
   ]
  },
  {
   "cell_type": "code",
   "execution_count": 60,
   "metadata": {},
   "outputs": [],
   "source": [
    "vectorizer = CountVectorizer()\n",
    "intermediate_train = vectorizer.fit_transform(list(X_train['glipizide']))\n",
    "intermediate_train = pd.DataFrame(intermediate_train.toarray(), columns=vectorizer.get_feature_names())\n",
    "train_df=pd.concat((train_df,intermediate_train), axis=1)\n",
    "intermediate_test = vectorizer.transform(list(X_test['glipizide']))\n",
    "intermediate_test = pd.DataFrame(intermediate_test.toarray(), columns=vectorizer.get_feature_names())\n",
    "test_df=pd.concat((test_df,intermediate_test), axis=1)"
   ]
  },
  {
   "cell_type": "code",
   "execution_count": 61,
   "metadata": {},
   "outputs": [],
   "source": [
    "vectorizer = CountVectorizer()\n",
    "intermediate_train = vectorizer.fit_transform(list(X_train['glyburide']))\n",
    "intermediate_train = pd.DataFrame(intermediate_train.toarray(), columns=vectorizer.get_feature_names())\n",
    "train_df=pd.concat((train_df,intermediate_train), axis=1)\n",
    "intermediate_test = vectorizer.transform(list(X_test['glyburide']))\n",
    "intermediate_test = pd.DataFrame(intermediate_test.toarray(), columns=vectorizer.get_feature_names())\n",
    "test_df=pd.concat((test_df,intermediate_test), axis=1)"
   ]
  },
  {
   "cell_type": "code",
   "execution_count": 62,
   "metadata": {},
   "outputs": [],
   "source": [
    "vectorizer = CountVectorizer()\n",
    "intermediate_train = vectorizer.fit_transform(list(X_train['tolbutamide']))\n",
    "intermediate_train = pd.DataFrame(intermediate_train.toarray(), columns=vectorizer.get_feature_names())\n",
    "train_df=pd.concat((train_df,intermediate_train), axis=1)\n",
    "intermediate_test = vectorizer.transform(list(X_test['tolbutamide']))\n",
    "intermediate_test = pd.DataFrame(intermediate_test.toarray(), columns=vectorizer.get_feature_names())\n",
    "test_df=pd.concat((test_df,intermediate_test), axis=1)"
   ]
  },
  {
   "cell_type": "code",
   "execution_count": 63,
   "metadata": {},
   "outputs": [],
   "source": [
    "vectorizer = CountVectorizer()\n",
    "intermediate_train = vectorizer.fit_transform(list(X_train['pioglitazone']))\n",
    "intermediate_train = pd.DataFrame(intermediate_train.toarray(), columns=vectorizer.get_feature_names())\n",
    "train_df=pd.concat((train_df,intermediate_train), axis=1)\n",
    "intermediate_test = vectorizer.transform(list(X_test['pioglitazone']))\n",
    "intermediate_test = pd.DataFrame(intermediate_test.toarray(), columns=vectorizer.get_feature_names())\n",
    "test_df=pd.concat((test_df,intermediate_test), axis=1)"
   ]
  },
  {
   "cell_type": "code",
   "execution_count": 64,
   "metadata": {},
   "outputs": [],
   "source": [
    "vectorizer = CountVectorizer()\n",
    "intermediate_train = vectorizer.fit_transform(list(X_train['rosiglitazone']))\n",
    "intermediate_train = pd.DataFrame(intermediate_train.toarray(), columns=vectorizer.get_feature_names())\n",
    "train_df=pd.concat((train_df,intermediate_train), axis=1)\n",
    "intermediate_test = vectorizer.transform(list(X_test['rosiglitazone']))\n",
    "intermediate_test = pd.DataFrame(intermediate_test.toarray(), columns=vectorizer.get_feature_names())\n",
    "test_df=pd.concat((test_df,intermediate_test), axis=1)"
   ]
  },
  {
   "cell_type": "code",
   "execution_count": 65,
   "metadata": {},
   "outputs": [],
   "source": [
    "vectorizer = CountVectorizer()\n",
    "intermediate_train = vectorizer.fit_transform(list(X_train['acarbose']))\n",
    "intermediate_train = pd.DataFrame(intermediate_train.toarray(), columns=vectorizer.get_feature_names())\n",
    "train_df=pd.concat((train_df,intermediate_train), axis=1)\n",
    "intermediate_test = vectorizer.transform(list(X_test['acarbose']))\n",
    "intermediate_test = pd.DataFrame(intermediate_test.toarray(), columns=vectorizer.get_feature_names())\n",
    "test_df=pd.concat((test_df,intermediate_test), axis=1)"
   ]
  },
  {
   "cell_type": "code",
   "execution_count": 66,
   "metadata": {},
   "outputs": [],
   "source": [
    "vectorizer = CountVectorizer()\n",
    "intermediate_train = vectorizer.fit_transform(list(X_train['miglitol']))\n",
    "intermediate_train = pd.DataFrame(intermediate_train.toarray(), columns=vectorizer.get_feature_names())\n",
    "train_df=pd.concat((train_df,intermediate_train), axis=1)\n",
    "intermediate_test = vectorizer.transform(list(X_test['miglitol']))\n",
    "intermediate_test = pd.DataFrame(intermediate_test.toarray(), columns=vectorizer.get_feature_names())\n",
    "test_df=pd.concat((test_df,intermediate_test), axis=1)"
   ]
  },
  {
   "cell_type": "code",
   "execution_count": 67,
   "metadata": {},
   "outputs": [],
   "source": [
    "vectorizer = CountVectorizer()\n",
    "intermediate_train = vectorizer.fit_transform(list(X_train['insulin']))\n",
    "intermediate_train = pd.DataFrame(intermediate_train.toarray(), columns=vectorizer.get_feature_names())\n",
    "train_df=pd.concat((train_df,intermediate_train), axis=1)\n",
    "intermediate_test = vectorizer.transform(list(X_test['insulin']))\n",
    "intermediate_test = pd.DataFrame(intermediate_test.toarray(), columns=vectorizer.get_feature_names())\n",
    "test_df=pd.concat((test_df,intermediate_test), axis=1)"
   ]
  },
  {
   "cell_type": "code",
   "execution_count": 68,
   "metadata": {},
   "outputs": [],
   "source": [
    "vectorizer = CountVectorizer()\n",
    "intermediate_train = vectorizer.fit_transform(list(X_train['glyburide-metformin']))\n",
    "intermediate_train = pd.DataFrame(intermediate_train.toarray(), columns=vectorizer.get_feature_names())\n",
    "train_df=pd.concat((train_df,intermediate_train), axis=1)\n",
    "intermediate_test = vectorizer.transform(list(X_test['glyburide-metformin']))\n",
    "intermediate_test = pd.DataFrame(intermediate_test.toarray(), columns=vectorizer.get_feature_names())\n",
    "test_df=pd.concat((test_df,intermediate_test), axis=1)"
   ]
  },
  {
   "cell_type": "code",
   "execution_count": 69,
   "metadata": {},
   "outputs": [],
   "source": [
    "vectorizer = CountVectorizer()\n",
    "intermediate_train = vectorizer.fit_transform(list(X_train['change']))\n",
    "intermediate_train = pd.DataFrame(intermediate_train.toarray(), columns=vectorizer.get_feature_names())\n",
    "train_df=pd.concat((train_df,intermediate_train), axis=1)\n",
    "intermediate_test = vectorizer.transform(list(X_test['change']))\n",
    "intermediate_test = pd.DataFrame(intermediate_test.toarray(), columns=vectorizer.get_feature_names())\n",
    "test_df=pd.concat((test_df,intermediate_test), axis=1)"
   ]
  },
  {
   "cell_type": "code",
   "execution_count": 70,
   "metadata": {},
   "outputs": [],
   "source": [
    "vectorizer = CountVectorizer()\n",
    "intermediate_train = vectorizer.fit_transform(list(X_train['diabetesMed']))\n",
    "intermediate_train = pd.DataFrame(intermediate_train.toarray(), columns=vectorizer.get_feature_names())\n",
    "train_df=pd.concat((train_df,intermediate_train), axis=1)\n",
    "intermediate_test = vectorizer.transform(list(X_test['diabetesMed']))\n",
    "intermediate_test = pd.DataFrame(intermediate_test.toarray(), columns=vectorizer.get_feature_names())\n",
    "test_df=pd.concat((test_df,intermediate_test), axis=1)"
   ]
  },
  {
   "cell_type": "code",
   "execution_count": 71,
   "metadata": {},
   "outputs": [],
   "source": [
    "vectorizer = CountVectorizer()\n",
    "intermediate_train = vectorizer.fit_transform((X_train['diag_1'] +\" \"+ X_train['diag_2'] +\" \"+ X_train['diag_3']))\n",
    "intermediate_train = pd.DataFrame(intermediate_train.toarray(), columns=vectorizer.get_feature_names())\n",
    "train_df=pd.concat((train_df,intermediate_train), axis=1)\n",
    "intermediate_test = vectorizer.transform(list(X_test['diag_1'] + \" \"+X_test['diag_2'] + \" \"+X_test['diag_3']))\n",
    "intermediate_test = pd.DataFrame(intermediate_test.toarray(), columns=vectorizer.get_feature_names())\n",
    "test_df=pd.concat((test_df,intermediate_test), axis=1)"
   ]
  },
  {
   "cell_type": "code",
   "execution_count": 73,
   "metadata": {},
   "outputs": [],
   "source": [
    "X_train['discharge_disposition_id']=X_train['discharge_disposition_id'].astype('str')\n",
    "X_test['discharge_disposition_id']=X_test['discharge_disposition_id'].astype('str')\n",
    "vectorizer = CountVectorizer(tokenizer=None)\n",
    "intermediate_train = vectorizer.fit_transform(X_train['discharge_disposition_id'].values)\n",
    "intermediate_train = pd.DataFrame(intermediate_train.toarray(), columns=vectorizer.get_feature_names())\n",
    "train_df=pd.concat((train_df,intermediate_train), axis=1)\n",
    "intermediate_test = vectorizer.transform((X_test['discharge_disposition_id'].values))\n",
    "intermediate_test = pd.DataFrame(intermediate_test.toarray(), columns=vectorizer.get_feature_names())\n",
    "test_df=pd.concat((test_df,intermediate_test), axis=1)"
   ]
  },
  {
   "cell_type": "code",
   "execution_count": 74,
   "metadata": {},
   "outputs": [],
   "source": [
    "X_train['admission_source_id']=X_train['admission_source_id'].astype('str')\n",
    "X_test['admission_source_id']=X_test['admission_source_id'].astype('str')\n",
    "vectorizer = CountVectorizer()\n",
    "intermediate_train = vectorizer.fit_transform(list(X_train['admission_source_id']))\n",
    "intermediate_train = pd.DataFrame(intermediate_train.toarray(), columns=vectorizer.get_feature_names())\n",
    "train_df=pd.concat((train_df,intermediate_train), axis=1)\n",
    "intermediate_test = vectorizer.transform(list(X_test['admission_source_id']))\n",
    "intermediate_test = pd.DataFrame(intermediate_test.toarray(), columns=vectorizer.get_feature_names())\n",
    "test_df=pd.concat((test_df,intermediate_test), axis=1)"
   ]
  },
  {
   "cell_type": "code",
   "execution_count": 75,
   "metadata": {},
   "outputs": [],
   "source": [
    "X_train['discharge_disposition_id']=X_train['discharge_disposition_id'].astype('str')\n",
    "X_test['discharge_disposition_id']=X_test['discharge_disposition_id'].astype('str')\n",
    "vectorizer = CountVectorizer()\n",
    "intermediate_train = vectorizer.fit_transform((list(X_train['discharge_disposition_id'])))\n",
    "intermediate_train = pd.DataFrame(intermediate_train.toarray(), columns=vectorizer.get_feature_names())\n",
    "train_df=pd.concat((train_df,intermediate_train), axis=1)\n",
    "intermediate_test = vectorizer.transform(list(X_test['discharge_disposition_id']))\n",
    "intermediate_test = pd.DataFrame(intermediate_test.toarray(), columns=vectorizer.get_feature_names())\n",
    "test_df=pd.concat((test_df,intermediate_test), axis=1)"
   ]
  },
  {
   "cell_type": "code",
   "execution_count": 76,
   "metadata": {},
   "outputs": [],
   "source": [
    "train_df=train_df.drop(['nan'], axis=1)\n",
    "test_df=test_df.drop(['nan'], axis=1)\n",
    "train_df=pd.concat((train_df.reset_index(drop=True),X_train['age'].reset_index(drop=True)), axis=1)\n",
    "train_df=pd.concat((train_df.reset_index(drop=True),X_train['time_in_hospital'].reset_index(drop=True)), axis=1)\n",
    "train_df=pd.concat((train_df.reset_index(drop=True),X_train['num_lab_procedures'].reset_index(drop=True)), axis=1)\n",
    "train_df=pd.concat((train_df.reset_index(drop=True),X_train['num_procedures'].reset_index(drop=True)), axis=1)\n",
    "train_df=pd.concat((train_df.reset_index(drop=True),X_train['num_medications'].reset_index(drop=True)), axis=1)\n",
    "train_df=pd.concat((train_df.reset_index(drop=True),X_train['number_outpatient'].reset_index(drop=True)), axis=1)\n",
    "train_df=pd.concat((train_df.reset_index(drop=True),X_train['number_emergency'].reset_index(drop=True)), axis=1)\n",
    "train_df=pd.concat((train_df.reset_index(drop=True),X_train['number_inpatient'].reset_index(drop=True)), axis=1)\n",
    "train_df=pd.concat((train_df.reset_index(drop=True),X_train['number_diagnoses'].reset_index(drop=True)), axis=1)\n",
    "\n",
    "\n",
    "test_df=pd.concat((test_df.reset_index(drop=True),X_test['age'].reset_index(drop=True)), axis=1)\n",
    "test_df=pd.concat((test_df.reset_index(drop=True),X_test['time_in_hospital'].reset_index(drop=True)), axis=1)\n",
    "test_df=pd.concat((test_df.reset_index(drop=True),X_test['num_lab_procedures'].reset_index(drop=True)), axis=1)\n",
    "test_df=pd.concat((test_df.reset_index(drop=True),X_test['num_procedures'].reset_index(drop=True)), axis=1)\n",
    "test_df=pd.concat((test_df.reset_index(drop=True),X_test['num_medications'].reset_index(drop=True)), axis=1)\n",
    "test_df=pd.concat((test_df.reset_index(drop=True),X_test['number_outpatient'].reset_index(drop=True)), axis=1)\n",
    "test_df=pd.concat((test_df.reset_index(drop=True),X_test['number_emergency'].reset_index(drop=True)), axis=1)\n",
    "test_df=pd.concat((test_df.reset_index(drop=True),X_test['number_inpatient'].reset_index(drop=True)), axis=1)\n",
    "test_df=pd.concat((test_df.reset_index(drop=True),X_test['number_diagnoses'].reset_index(drop=True)), axis=1)"
   ]
  },
  {
   "cell_type": "code",
   "execution_count": 77,
   "metadata": {},
   "outputs": [],
   "source": [
    "import pickle\n",
    "\n",
    "f_bow=open('test_df','wb')\n",
    "pickle.dump(test_df, f_bow)\n",
    "f_bow.close()\n",
    "\n",
    "f_bow=open('train_df','wb')\n",
    "pickle.dump(train_df, f_bow)\n",
    "f_bow.close()\n",
    "\n",
    "f_bow=open('y_train','wb')\n",
    "pickle.dump(y_train, f_bow)\n",
    "f_bow.close()\n",
    "\n",
    "f_bow=open('y_test','wb')\n",
    "pickle.dump(y_test, f_bow)\n",
    "f_bow.close()"
   ]
  },
  {
   "cell_type": "code",
   "execution_count": null,
   "metadata": {},
   "outputs": [],
   "source": []
  }
 ],
 "metadata": {
  "kernelspec": {
   "display_name": "Python 3",
   "language": "python",
   "name": "python3"
  },
  "language_info": {
   "codemirror_mode": {
    "name": "ipython",
    "version": 3
   },
   "file_extension": ".py",
   "mimetype": "text/x-python",
   "name": "python",
   "nbconvert_exporter": "python",
   "pygments_lexer": "ipython3",
   "version": "3.6.5"
  }
 },
 "nbformat": 4,
 "nbformat_minor": 2
}
